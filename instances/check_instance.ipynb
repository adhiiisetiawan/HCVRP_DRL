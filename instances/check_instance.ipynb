{
 "cells": [
  {
   "cell_type": "code",
   "execution_count": 1,
   "metadata": {},
   "outputs": [],
   "source": [
    "import vrplib"
   ]
  },
  {
   "cell_type": "code",
   "execution_count": 2,
   "metadata": {},
   "outputs": [],
   "source": [
    "# Read VRPLIB formatted instances (default)\n",
    "instance = vrplib.read_instance(\"Vrp-Set-A/A/A-n32-k5.vrp\")\n",
    "solution = vrplib.read_solution(\"Vrp-Set-A/A/A-n32-k5.sol\")"
   ]
  },
  {
   "cell_type": "code",
   "execution_count": 3,
   "metadata": {},
   "outputs": [
    {
     "data": {
      "text/plain": [
       "{'name': 'A-n32-k5',\n",
       " 'comment': '(Augerat et al, No of trucks: 5, Optimal value: 784)',\n",
       " 'type': 'CVRP',\n",
       " 'dimension': 32,\n",
       " 'edge_weight_type': 'EUC_2D',\n",
       " 'capacity': 100,\n",
       " 'node_coord': array([[82, 76],\n",
       "        [96, 44],\n",
       "        [50,  5],\n",
       "        [49,  8],\n",
       "        [13,  7],\n",
       "        [29, 89],\n",
       "        [58, 30],\n",
       "        [84, 39],\n",
       "        [14, 24],\n",
       "        [ 2, 39],\n",
       "        [ 3, 82],\n",
       "        [ 5, 10],\n",
       "        [98, 52],\n",
       "        [84, 25],\n",
       "        [61, 59],\n",
       "        [ 1, 65],\n",
       "        [88, 51],\n",
       "        [91,  2],\n",
       "        [19, 32],\n",
       "        [93,  3],\n",
       "        [50, 93],\n",
       "        [98, 14],\n",
       "        [ 5, 42],\n",
       "        [42,  9],\n",
       "        [61, 62],\n",
       "        [ 9, 97],\n",
       "        [80, 55],\n",
       "        [57, 69],\n",
       "        [23, 15],\n",
       "        [20, 70],\n",
       "        [85, 60],\n",
       "        [98,  5]]),\n",
       " 'demand': array([ 0, 19, 21,  6, 19,  7, 12, 16,  6, 16,  8, 14, 21, 16,  3, 22, 18,\n",
       "        19,  1, 24,  8, 12,  4,  8, 24, 24,  2, 20, 15,  2, 14,  9]),\n",
       " 'depot': array([0]),\n",
       " 'edge_weight': array([[  0.        ,  34.92849839,  77.87810989, ...,  62.28964601,\n",
       "          16.2788206 ,  72.78049189],\n",
       "        [ 34.92849839,   0.        ,  60.30754513, ...,  80.32434251,\n",
       "          19.41648784,  39.05124838],\n",
       "        [ 77.87810989,  60.30754513,   0.        , ...,  71.58910532,\n",
       "          65.19202405,  48.        ],\n",
       "        ...,\n",
       "        [ 62.28964601,  80.32434251,  71.58910532, ...,   0.        ,\n",
       "          65.76473219, 101.53324579],\n",
       "        [ 16.2788206 ,  19.41648784,  65.19202405, ...,  65.76473219,\n",
       "           0.        ,  56.5154846 ],\n",
       "        [ 72.78049189,  39.05124838,  48.        , ..., 101.53324579,\n",
       "          56.5154846 ,   0.        ]])}"
      ]
     },
     "execution_count": 3,
     "metadata": {},
     "output_type": "execute_result"
    }
   ],
   "source": [
    "instance"
   ]
  },
  {
   "cell_type": "code",
   "execution_count": 4,
   "metadata": {},
   "outputs": [
    {
     "data": {
      "text/plain": [
       "{'routes': [[21, 31, 19, 17, 13, 7, 26],\n",
       "  [12, 1, 16, 30],\n",
       "  [27, 24],\n",
       "  [29, 18, 8, 9, 22, 15, 10, 25, 5, 20],\n",
       "  [14, 28, 11, 4, 23, 3, 2, 6]],\n",
       " 'cost': 784}"
      ]
     },
     "execution_count": 4,
     "metadata": {},
     "output_type": "execute_result"
    }
   ],
   "source": [
    "solution"
   ]
  },
  {
   "cell_type": "code",
   "execution_count": null,
   "metadata": {},
   "outputs": [],
   "source": []
  }
 ],
 "metadata": {
  "kernelspec": {
   "display_name": "base",
   "language": "python",
   "name": "python3"
  },
  "language_info": {
   "codemirror_mode": {
    "name": "ipython",
    "version": 3
   },
   "file_extension": ".py",
   "mimetype": "text/x-python",
   "name": "python",
   "nbconvert_exporter": "python",
   "pygments_lexer": "ipython3",
   "version": "3.10.10"
  },
  "orig_nbformat": 4
 },
 "nbformat": 4,
 "nbformat_minor": 2
}
